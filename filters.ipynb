{
 "cells": [
  {
   "cell_type": "code",
   "execution_count": 3,
   "metadata": {},
   "outputs": [
    {
     "ename": "ModuleNotFoundError",
     "evalue": "No module named 'dns'",
     "output_type": "error",
     "traceback": [
      "\u001b[1;31m---------------------------------------------------------------------------\u001b[0m",
      "\u001b[1;31mModuleNotFoundError\u001b[0m                       Traceback (most recent call last)",
      "\u001b[1;32m~\\AppData\\Local\\Temp\\ipykernel_20476\\2811839094.py\u001b[0m in \u001b[0;36m<module>\u001b[1;34m\u001b[0m\n\u001b[0;32m      1\u001b[0m \u001b[1;32mimport\u001b[0m \u001b[0mpandas\u001b[0m \u001b[1;32mas\u001b[0m \u001b[0mpd\u001b[0m\u001b[1;33m\u001b[0m\u001b[1;33m\u001b[0m\u001b[0m\n\u001b[0;32m      2\u001b[0m \u001b[1;32mimport\u001b[0m \u001b[0mre\u001b[0m\u001b[1;33m\u001b[0m\u001b[1;33m\u001b[0m\u001b[0m\n\u001b[1;32m----> 3\u001b[1;33m \u001b[1;32mimport\u001b[0m \u001b[0mdns\u001b[0m\u001b[1;33m.\u001b[0m\u001b[0mresolver\u001b[0m\u001b[1;33m\u001b[0m\u001b[1;33m\u001b[0m\u001b[0m\n\u001b[0m\u001b[0;32m      4\u001b[0m \u001b[1;32mfrom\u001b[0m \u001b[0mflask\u001b[0m \u001b[1;32mimport\u001b[0m \u001b[0mFlask\u001b[0m\u001b[1;33m,\u001b[0m \u001b[0mrender_template\u001b[0m\u001b[1;33m,\u001b[0m \u001b[0mrequest\u001b[0m\u001b[1;33m,\u001b[0m \u001b[0mredirect\u001b[0m\u001b[1;33m\u001b[0m\u001b[1;33m\u001b[0m\u001b[0m\n\u001b[0;32m      5\u001b[0m \u001b[1;33m\u001b[0m\u001b[0m\n",
      "\u001b[1;31mModuleNotFoundError\u001b[0m: No module named 'dns'"
     ]
    }
   ],
   "source": [
    "import pandas as pd\n",
    "import re\n",
    "import dns.resolver\n",
    "from flask import Flask, render_template, request, redirect\n",
    "\n"
   ]
  },
  {
   "cell_type": "code",
   "execution_count": null,
   "metadata": {},
   "outputs": [],
   "source": [
    "app = Flask(__name__)\n",
    "\n",
    "\n"
   ]
  },
  {
   "cell_type": "code",
   "execution_count": null,
   "metadata": {},
   "outputs": [],
   "source": [
    "def clean_emails(df):\n",
    "    email_columns = ['Email 1', 'Email 2', 'Email 3']\n",
    "    for column in email_columns:\n",
    "        df[column] = df[column].apply(lambda x: re.sub(r'\\s+', '', str(x)))  # Remove whitespaces\n",
    "        df[column] = df[column].apply(lambda x: re.findall(r'[\\w\\.-]+@[\\w\\.-]+', str(x)))  # Find valid email addresses\n",
    "    return df\n",
    "\n",
    "def clean_phone_numbers(df):\n",
    "    phone_column = 'Main Phone'\n",
    "    df[phone_column] = df[phone_column].apply(lambda x: re.sub(r'\\s+', '', str(x)))  # Remove whitespaces\n",
    "    df[phone_column] = df[phone_column].apply(lambda x: re.sub(r'^020|^20', '', str(x)))  # Remove '020' or '20' prefix\n",
    "    return df\n",
    "\n",
    "def validate_dns(email):\n",
    "    try:\n",
    "        domain = email.split('@')[1]\n",
    "        dns.resolver.query(domain, 'MX')\n",
    "        return True\n",
    "    except (dns.resolver.NoAnswer, dns.resolver.NXDOMAIN):\n",
    "        return False\n",
    "\n",
    "@app.route('/', methods=['GET', 'POST'])\n",
    "def upload_file():\n",
    "    if request.method == 'POST':\n",
    "        file = request.files['file']\n",
    "        filename = 'clean_' + file.filename\n",
    "        if file.filename.endswith('.xlsx'):\n",
    "            df = pd.read_excel(file)\n",
    "        elif file.filename.endswith('.csv'):\n",
    "            df = pd.read_csv(file)\n",
    "        else:\n",
    "            return render_template('index.html', message=\"Invalid file format. Only xlsx and csv files are supported.\")\n",
    "        \n",
    "        df_cleaned = clean_emails(df)\n",
    "        df_cleaned = clean_phone_numbers(df_cleaned)\n",
    "        \n",
    "        # Validate email addresses using DNS lookup\n",
    "        email_columns = ['Email 1', 'Email 2', 'Email 3']\n",
    "        for column in email_columns:\n",
    "            df_cleaned[column] = df_cleaned[column].apply(lambda x: [email for email in x if validate_dns(email)])\n",
    "        \n",
    "        if file.filename.endswith('.xlsx'):\n",
    "            df_cleaned.to_excel(filename, index=False)\n",
    "        elif file.filename.endswith('.csv'):\n",
    "            df_cleaned.to_csv(filename, index=False)\n",
    "        else:\n",
    "            return render_template('index.html', message=\"Something went wrong while saving the cleaned file.\")\n",
    "        \n",
    "        return redirect('/download/' + filename)\n",
    "    return render_template('index.html')\n",
    "\n"
   ]
  },
  {
   "cell_type": "code",
   "execution_count": null,
   "metadata": {},
   "outputs": [],
   "source": [
    "@app.route('/download/<filename>', methods=['GET'])\n",
    "def download_file(filename):\n",
    "    return render_template('download.html', filename=filename)\n",
    "\n",
    "if __name__ == '__main__':\n",
    "    app.run()"
   ]
  }
 ],
 "metadata": {
  "kernelspec": {
   "display_name": "Python 3 (ipykernel)",
   "language": "python",
   "name": "python3"
  },
  "language_info": {
   "codemirror_mode": {
    "name": "ipython",
    "version": 3
   },
   "file_extension": ".py",
   "mimetype": "text/x-python",
   "name": "python",
   "nbconvert_exporter": "python",
   "pygments_lexer": "ipython3",
   "version": "3.9.13"
  },
  "orig_nbformat": 4
 },
 "nbformat": 4,
 "nbformat_minor": 2
}
