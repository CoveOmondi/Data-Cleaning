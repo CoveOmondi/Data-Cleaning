{
 "cells": [
  {
   "cell_type": "code",
   "execution_count": null,
   "metadata": {
    "pycharm": {
     "is_executing": true
    }
   },
   "outputs": [],
   "source": [
    "\n",
    "import re\n",
    "import openpyxl\n",
    "\n",
    "from tkinter import Tk\n",
    "from tkinter.filedialog import askopenfilename\n",
    "import os\n",
    "\n"
   ]
  },
  {
   "attachments": {},
   "cell_type": "markdown",
   "metadata": {
    "collapsed": false
   },
   "source": []
  },
  {
   "cell_type": "code",
   "execution_count": null,
   "metadata": {},
   "outputs": [],
   "source": [
    "def clean_data(file_path):\n",
    "    data = []\n",
    "    workbook = openpyxl.load_workbook(file_path)\n",
    "    sheet = workbook[workbook.sheetnames[0]]\n",
    "    header_row = None\n",
    "    phone_columns = ['Main Phone', 'Cell 2', 'Cell 3']\n",
    "    email_columns = ['Email 1', 'Email 2', 'Email 3']\n",
    "\n",
    "    for i, row in enumerate(sheet.rows):\n",
    "        if i == 0:\n",
    "            header_row = [cell.value for cell in row]\n",
    "            phone_column_indices = [header_row.index(col) for col in phone_columns if col in header_row]\n",
    "            email_column_indices = [header_row.index(col) for col in email_columns if col in header_row]\n",
    "            data.append(header_row)\n",
    "            continue\n",
    "\n",
    "        include_row = True\n",
    "        for col_index in phone_column_indices:\n",
    "            if row[col_index].value and (str(row[col_index].value).startswith(\"+254 20\") or str(row[col_index].value).startswith(\"020\")   or str(row[col_index].value).startswith(\"057\")  or str(row[col_index].value).startswith(\"+254 (0)20\")      or str(row[col_index].value).startswith(\"20\")    ):\n",
    "                row[col_index].value = None\n",
    "                include_row = True\n",
    "                break\n",
    "\n",
    "        \n",
    "\n",
    "        if include_row:\n",
    "            data.append([cell.value for cell in row])\n",
    "\n",
    "    return (data)"
   ]
  },
  {
   "cell_type": "code",
   "execution_count": null,
   "metadata": {},
   "outputs": [],
   "source": [
    "\n",
    "def write_to_xlsx(data, file_path):\n",
    "    workbook = openpyxl.Workbook()\n",
    "    sheet = workbook.active\n",
    "    for row in data:\n",
    "        sheet.append(row)\n",
    "    workbook.save(file_path)\n"
   ]
  },
  {
   "cell_type": "code",
   "execution_count": null,
   "metadata": {},
   "outputs": [],
   "source": [
    "root = Tk()\n",
    "root.withdraw()\n",
    "file_path = askopenfilename(filetypes=[(\"Excel Files\", \"*.xlsx\")])\n",
    "cleaned_data = clean_data(file_path)\n",
    "directory = os.path.dirname(file_path)\n",
    "file_name = os.path.basename(file_path)\n",
    "new_file_path = os.path.join(directory, \"clean_\" + file_name)\n",
    "write_to_xlsx(cleaned_data, new_file_path)\n"
   ]
  },
  {
   "cell_type": "code",
   "execution_count": null,
   "metadata": {},
   "outputs": [],
   "source": []
  },
  {
   "cell_type": "code",
   "execution_count": null,
   "metadata": {},
   "outputs": [],
   "source": []
  },
  {
   "cell_type": "code",
   "execution_count": null,
   "metadata": {},
   "outputs": [],
   "source": []
  }
 ],
 "metadata": {
  "kernelspec": {
   "display_name": "Python 3 (ipykernel)",
   "language": "python",
   "name": "python3"
  },
  "vscode": {
   "interpreter": {
    "hash": "ad2bdc8ecc057115af97d19610ffacc2b4e99fae6737bb82f5d7fb13d2f2c186"
   }
  }
 },
 "nbformat": 4,
 "nbformat_minor": 2
}
