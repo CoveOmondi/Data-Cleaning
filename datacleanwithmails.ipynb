{
 "cells": [
  {
   "cell_type": "code",
   "execution_count": 1,
   "metadata": {},
   "outputs": [],
   "source": [
    "import re\n",
    "import openpyxl\n",
    "import os\n",
    "import email_validator\n",
    "from tkinter import Tk\n",
    "from tkinter.filedialog import askopenfilename\n",
    "\n",
    "\n",
    "\n"
   ]
  },
  {
   "cell_type": "code",
   "execution_count": 2,
   "metadata": {},
   "outputs": [],
   "source": [
    "def clean_data(file_path):\n",
    "    data = []\n",
    "    workbook = openpyxl.load_workbook(file_path)\n",
    "    sheet = workbook[workbook.sheetnames[0]]\n",
    "    header_row = None\n",
    "    email_columns = ['Email 1', 'Email 2', 'Email 3']\n",
    "    phone_columns = ['Main Phone', 'Cell 2', 'Cell 3']\n",
    "\n",
    "    for i, row in enumerate(sheet.rows):\n",
    "        if i == 0:\n",
    "            header_row = [cell.value for cell in row]\n",
    "            email_column_indices = [header_row.index(col) for col in email_columns if col in header_row]\n",
    "            phone_column_indices = [header_row.index(col) for col in phone_columns if col in header_row]\n",
    "            data.append(header_row)\n",
    "            continue\n",
    "\n",
    "        include_row = True\n",
    "        row_data = [cell.value for cell in row]\n",
    "\n",
    "        # Validate email addresses\n",
    "        for col_index in email_column_indices:\n",
    "            email_address = row_data[col_index]\n",
    "            if email_address:\n",
    "                try:\n",
    "                    email_validator.validate_email(email_address)\n",
    "                except email_validator.EmailNotValidError:\n",
    "                    include_row = False\n",
    "                    break\n",
    "\n",
    "        # Remove phone numbers starting with \"25420\" or \"20\"\n",
    "        for col_index in phone_column_indices:\n",
    "            phone_number = row_data[col_index]\n",
    "            if phone_number and str(phone_number.startswith(\"25420\") or phone_number.startswith(\"20\")):\n",
    "                row_data[col_index] = None\n",
    "\n",
    "        if include_row:\n",
    "            data.append(row_data)\n",
    "\n",
    "    return data\n"
   ]
  },
  {
   "cell_type": "code",
   "execution_count": 3,
   "metadata": {},
   "outputs": [],
   "source": [
    "def write_to_xlsx(data, file_path):\n",
    "    workbook = openpyxl.Workbook()\n",
    "    sheet = workbook.active\n",
    "    for row in data:\n",
    "        sheet.append(row)\n",
    "    workbook.save(file_path)"
   ]
  },
  {
   "cell_type": "code",
   "execution_count": 1,
   "metadata": {},
   "outputs": [
    {
     "ename": "NameError",
     "evalue": "name 'Tk' is not defined",
     "output_type": "error",
     "traceback": [
      "\u001b[1;31m---------------------------------------------------------------------------\u001b[0m",
      "\u001b[1;31mNameError\u001b[0m                                 Traceback (most recent call last)",
      "\u001b[1;32m~\\AppData\\Local\\Temp\\ipykernel_5068\\402384951.py\u001b[0m in \u001b[0;36m<module>\u001b[1;34m\u001b[0m\n\u001b[1;32m----> 1\u001b[1;33m \u001b[0mroot\u001b[0m \u001b[1;33m=\u001b[0m \u001b[0mTk\u001b[0m\u001b[1;33m(\u001b[0m\u001b[1;33m)\u001b[0m\u001b[1;33m\u001b[0m\u001b[1;33m\u001b[0m\u001b[0m\n\u001b[0m\u001b[0;32m      2\u001b[0m \u001b[0mroot\u001b[0m\u001b[1;33m.\u001b[0m\u001b[0mwithdraw\u001b[0m\u001b[1;33m(\u001b[0m\u001b[1;33m)\u001b[0m\u001b[1;33m\u001b[0m\u001b[1;33m\u001b[0m\u001b[0m\n\u001b[0;32m      3\u001b[0m \u001b[0mfile_path\u001b[0m \u001b[1;33m=\u001b[0m \u001b[0maskopenfilename\u001b[0m\u001b[1;33m(\u001b[0m\u001b[0mfiletypes\u001b[0m\u001b[1;33m=\u001b[0m\u001b[1;33m[\u001b[0m\u001b[1;33m(\u001b[0m\u001b[1;34m\"Excel Files\"\u001b[0m\u001b[1;33m,\u001b[0m \u001b[1;34m\"*.xlsx\"\u001b[0m\u001b[1;33m)\u001b[0m\u001b[1;33m]\u001b[0m\u001b[1;33m)\u001b[0m\u001b[1;33m\u001b[0m\u001b[1;33m\u001b[0m\u001b[0m\n\u001b[0;32m      4\u001b[0m \u001b[0mcleaned_data\u001b[0m \u001b[1;33m=\u001b[0m \u001b[0mclean_data\u001b[0m\u001b[1;33m(\u001b[0m\u001b[0mfile_path\u001b[0m\u001b[1;33m)\u001b[0m\u001b[1;33m\u001b[0m\u001b[1;33m\u001b[0m\u001b[0m\n\u001b[0;32m      5\u001b[0m \u001b[0mdirectory\u001b[0m \u001b[1;33m=\u001b[0m \u001b[0mos\u001b[0m\u001b[1;33m.\u001b[0m\u001b[0mpath\u001b[0m\u001b[1;33m.\u001b[0m\u001b[0mdirname\u001b[0m\u001b[1;33m(\u001b[0m\u001b[0mfile_path\u001b[0m\u001b[1;33m)\u001b[0m\u001b[1;33m\u001b[0m\u001b[1;33m\u001b[0m\u001b[0m\n",
      "\u001b[1;31mNameError\u001b[0m: name 'Tk' is not defined"
     ]
    }
   ],
   "source": [
    "root = Tk()\n",
    "root.withdraw()\n",
    "file_path = askopenfilename(filetypes=[(\"Excel Files\", \"*.xlsx\")])\n",
    "cleaned_data = clean_data(file_path)\n",
    "directory = os.path.dirname(file_path)\n",
    "file_name = os.path.basename(file_path)\n",
    "new_file_path = os.path.join(directory, \"clean_\" + file_name)\n",
    "write_to_xlsx(cleaned_data, new_file_path)\n"
   ]
  }
 ],
 "metadata": {
  "kernelspec": {
   "display_name": "Python 3 (ipykernel)",
   "language": "python",
   "name": "python3"
  },
  "language_info": {
   "codemirror_mode": {
    "name": "ipython",
    "version": 3
   },
   "file_extension": ".py",
   "mimetype": "text/x-python",
   "name": "python",
   "nbconvert_exporter": "python",
   "pygments_lexer": "ipython3",
   "version": "3.9.13"
  },
  "orig_nbformat": 4
 },
 "nbformat": 4,
 "nbformat_minor": 2
}
