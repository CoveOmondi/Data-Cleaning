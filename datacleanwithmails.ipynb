{
 "cells": [
  {
   "cell_type": "code",
   "execution_count": null,
   "metadata": {},
   "outputs": [],
   "source": [
    "import re\n",
    "import openpyxl\n",
    "import os\n",
    "import DNS\n",
    "from tkinter import Tk\n",
    "from tkinter.filedialog import askopenfilename\n",
    "\n",
    "\n",
    "\n",
    "\n"
   ]
  },
  {
   "cell_type": "code",
   "execution_count": null,
   "metadata": {},
   "outputs": [],
   "source": [
    "def clean_data(file_path):\n",
    "    data = []\n",
    "    workbook = openpyxl.load_workbook(file_path)\n",
    "    sheet = workbook[workbook.sheetnames[0]]\n",
    "    header_row = None\n",
    "    email_columns = ['Email 1', 'Email 2', 'Email 3']\n",
    "    phone_columns = ['Main Phone', 'Cell 2', 'Cell 3']\n",
    "\n",
    "    for i, row in enumerate(sheet.rows):\n",
    "        if i == 0:\n",
    "            header_row = [cell.value for cell in row]\n",
    "            email_column_indices = [header_row.index(col) for col in email_columns if col in header_row]\n",
    "            phone_column_indices = [header_row.index(col) for col in phone_columns if col in header_row]\n",
    "            data.append(header_row)\n",
    "            continue\n",
    "\n",
    "        include_row = True\n",
    "        row_data = [cell.value for cell in row]\n",
    "\n",
    "        # Validate email addresses\n",
    "        for col_index in email_column_indices:\n",
    "            email_address = row_data[col_index]\n",
    "            if email_address:\n",
    "                email_parts = email_address.split(\"@\")\n",
    "                if len(email_parts) != 2:\n",
    "                    include_row = False\n",
    "                    break\n",
    "                domain = email_parts[1]\n",
    "                try:\n",
    "                    answers = DNS.resolver.query(domain, 'MX')\n",
    "                except:\n",
    "                    include_row = False\n",
    "                    break\n",
    "\n",
    "        # Remove phone numbers starting with \"25420\" or \"20\"\n",
    "        for col_index in phone_column_indices:\n",
    "            phone_number = row_data[col_index]\n",
    "            if phone_number and str(phone_number.startswith(\"25420\") or phone_number.startswith(\"20\")):\n",
    "                row_data[col_index] = None\n",
    "\n",
    "        if include_row:\n",
    "            data.append(row_data)\n",
    "\n",
    "    return data"
   ]
  },
  {
   "cell_type": "code",
   "execution_count": null,
   "metadata": {},
   "outputs": [],
   "source": [
    "def write_to_xlsx(data, file_path):\n",
    "    workbook = openpyxl.Workbook()\n",
    "    sheet = workbook.active\n",
    "    for row in data:\n",
    "        sheet.append(row)\n",
    "    workbook.save(file_path)\n"
   ]
  },
  {
   "cell_type": "code",
   "execution_count": null,
   "metadata": {},
   "outputs": [],
   "source": [
    "root = Tk()\n",
    "root.withdraw()\n",
    "file_path = askopenfilename(filetypes=[(\"Excel Files\", \"*.xlsx\")])\n",
    "cleaned_data = clean_data(file_path)\n",
    "directory = os.path.dirname(file_path)\n",
    "file_name = os.path.basename(file_path)\n",
    "new_file_path = os.path.join(directory, \"clean_\" + file_name)\n",
    "write_to_xlsx(cleaned_data, new_file_path)\n"
   ]
  }
 ],
 "metadata": {
  "language_info": {
   "name": "python"
  },
  "orig_nbformat": 4
 },
 "nbformat": 4,
 "nbformat_minor": 2
}
